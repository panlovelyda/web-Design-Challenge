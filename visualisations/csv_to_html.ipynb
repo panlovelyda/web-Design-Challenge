{
 "cells": [
  {
   "cell_type": "code",
   "execution_count": 6,
   "metadata": {},
   "outputs": [],
   "source": [
    "import pandas as pd"
   ]
  },
  {
   "cell_type": "code",
   "execution_count": 7,
   "metadata": {},
   "outputs": [],
   "source": [
    "cities = pd.read_csv(\"../Resources/cities.csv\")"
   ]
  },
  {
   "cell_type": "code",
   "execution_count": 8,
   "metadata": {},
   "outputs": [
    {
     "data": {
      "text/html": [
       "<div>\n",
       "<style scoped>\n",
       "    .dataframe tbody tr th:only-of-type {\n",
       "        vertical-align: middle;\n",
       "    }\n",
       "\n",
       "    .dataframe tbody tr th {\n",
       "        vertical-align: top;\n",
       "    }\n",
       "\n",
       "    .dataframe thead th {\n",
       "        text-align: right;\n",
       "    }\n",
       "</style>\n",
       "<table border=\"1\" class=\"dataframe\">\n",
       "  <thead>\n",
       "    <tr style=\"text-align: right;\">\n",
       "      <th></th>\n",
       "      <th>City_ID</th>\n",
       "      <th>City</th>\n",
       "      <th>Lat</th>\n",
       "      <th>Lng</th>\n",
       "      <th>Max Temp</th>\n",
       "      <th>Humidity</th>\n",
       "      <th>Cloudiness</th>\n",
       "      <th>Wind Speed</th>\n",
       "      <th>Country</th>\n",
       "      <th>Date</th>\n",
       "    </tr>\n",
       "  </thead>\n",
       "  <tbody>\n",
       "    <tr>\n",
       "      <th>0</th>\n",
       "      <td>0</td>\n",
       "      <td>kapaa</td>\n",
       "      <td>22.0752</td>\n",
       "      <td>-159.3190</td>\n",
       "      <td>26.99</td>\n",
       "      <td>77</td>\n",
       "      <td>40</td>\n",
       "      <td>6.17</td>\n",
       "      <td>US</td>\n",
       "      <td>1651608887</td>\n",
       "    </tr>\n",
       "    <tr>\n",
       "      <th>1</th>\n",
       "      <td>1</td>\n",
       "      <td>barrow</td>\n",
       "      <td>71.2906</td>\n",
       "      <td>-156.7887</td>\n",
       "      <td>-5.99</td>\n",
       "      <td>86</td>\n",
       "      <td>100</td>\n",
       "      <td>5.14</td>\n",
       "      <td>US</td>\n",
       "      <td>1651608707</td>\n",
       "    </tr>\n",
       "    <tr>\n",
       "      <th>2</th>\n",
       "      <td>2</td>\n",
       "      <td>busselton</td>\n",
       "      <td>-33.6500</td>\n",
       "      <td>115.3333</td>\n",
       "      <td>13.33</td>\n",
       "      <td>68</td>\n",
       "      <td>84</td>\n",
       "      <td>4.85</td>\n",
       "      <td>AU</td>\n",
       "      <td>1651608889</td>\n",
       "    </tr>\n",
       "    <tr>\n",
       "      <th>3</th>\n",
       "      <td>3</td>\n",
       "      <td>mar del plata</td>\n",
       "      <td>-38.0023</td>\n",
       "      <td>-57.5575</td>\n",
       "      <td>16.08</td>\n",
       "      <td>59</td>\n",
       "      <td>0</td>\n",
       "      <td>6.17</td>\n",
       "      <td>AR</td>\n",
       "      <td>1651608890</td>\n",
       "    </tr>\n",
       "    <tr>\n",
       "      <th>4</th>\n",
       "      <td>4</td>\n",
       "      <td>vaini</td>\n",
       "      <td>-21.2000</td>\n",
       "      <td>-175.2000</td>\n",
       "      <td>23.09</td>\n",
       "      <td>88</td>\n",
       "      <td>20</td>\n",
       "      <td>2.57</td>\n",
       "      <td>TO</td>\n",
       "      <td>1651608890</td>\n",
       "    </tr>\n",
       "  </tbody>\n",
       "</table>\n",
       "</div>"
      ],
      "text/plain": [
       "   City_ID           City      Lat       Lng  Max Temp  Humidity  Cloudiness  \\\n",
       "0        0          kapaa  22.0752 -159.3190     26.99        77          40   \n",
       "1        1         barrow  71.2906 -156.7887     -5.99        86         100   \n",
       "2        2      busselton -33.6500  115.3333     13.33        68          84   \n",
       "3        3  mar del plata -38.0023  -57.5575     16.08        59           0   \n",
       "4        4          vaini -21.2000 -175.2000     23.09        88          20   \n",
       "\n",
       "   Wind Speed Country        Date  \n",
       "0        6.17      US  1651608887  \n",
       "1        5.14      US  1651608707  \n",
       "2        4.85      AU  1651608889  \n",
       "3        6.17      AR  1651608890  \n",
       "4        2.57      TO  1651608890  "
      ]
     },
     "execution_count": 8,
     "metadata": {},
     "output_type": "execute_result"
    }
   ],
   "source": [
    "cities.head()"
   ]
  },
  {
   "cell_type": "code",
   "execution_count": 9,
   "metadata": {},
   "outputs": [],
   "source": [
    "cities.to_html(\"cities.html\")"
   ]
  }
 ],
 "metadata": {
  "kernelspec": {
   "display_name": "Python 3.9.12 ('base')",
   "language": "python",
   "name": "python3"
  },
  "language_info": {
   "codemirror_mode": {
    "name": "ipython",
    "version": 3
   },
   "file_extension": ".py",
   "mimetype": "text/x-python",
   "name": "python",
   "nbconvert_exporter": "python",
   "pygments_lexer": "ipython3",
   "version": "3.9.12"
  },
  "orig_nbformat": 4,
  "vscode": {
   "interpreter": {
    "hash": "55c71381e32fd971460c3af3b7aa7e5fbdb5dbd4076fc58f49c4639453d5ee83"
   }
  }
 },
 "nbformat": 4,
 "nbformat_minor": 2
}
